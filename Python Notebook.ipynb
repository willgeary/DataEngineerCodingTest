{
 "cells": [
  {
   "cell_type": "markdown",
   "metadata": {},
   "source": [
    "Will Geary\n",
    "\n",
    "willcgeary@gmail.com"
   ]
  },
  {
   "cell_type": "markdown",
   "metadata": {},
   "source": [
    "# Part 1 - CSV Test"
   ]
  },
  {
   "cell_type": "markdown",
   "metadata": {},
   "source": [
    "To Do: Write a script to transform input CSV to desired output CSV. "
   ]
  },
  {
   "cell_type": "markdown",
   "metadata": {},
   "source": [
    "*You will find a CSV file available for download here: [test.csv](https://s3.amazonaws.com/data-code-test/test.csv). There are two steps (plus an optional bonus) to this part of the test. Each step concerns manipulating the values for a single field according to the step's requirements. The steps are as follows:*"
   ]
  },
  {
   "cell_type": "markdown",
   "metadata": {},
   "source": [
    "### String cleaning\n",
    "*The bio field contains text with arbitrary padding, spacing and line breaks. Normalize these values to a space-delimited string.*"
   ]
  },
  {
   "cell_type": "code",
   "execution_count": 1,
   "metadata": {
    "collapsed": false
   },
   "outputs": [],
   "source": [
    "import pandas as pd # pandas library\n",
    "import re # regular expressions"
   ]
  },
  {
   "cell_type": "markdown",
   "metadata": {},
   "source": [
    "Read the csv into a pandas dataframe."
   ]
  },
  {
   "cell_type": "code",
   "execution_count": 2,
   "metadata": {
    "collapsed": false
   },
   "outputs": [
    {
     "data": {
      "text/html": [
       "<div>\n",
       "<table border=\"1\" class=\"dataframe\">\n",
       "  <thead>\n",
       "    <tr style=\"text-align: right;\">\n",
       "      <th></th>\n",
       "      <th>name</th>\n",
       "      <th>gender</th>\n",
       "      <th>birthdate</th>\n",
       "      <th>address</th>\n",
       "      <th>city</th>\n",
       "      <th>state</th>\n",
       "      <th>zipcode</th>\n",
       "      <th>email</th>\n",
       "      <th>bio</th>\n",
       "      <th>job</th>\n",
       "      <th>start_date</th>\n",
       "    </tr>\n",
       "  </thead>\n",
       "  <tbody>\n",
       "    <tr>\n",
       "      <th>0</th>\n",
       "      <td>Nathalia Moore DDS</td>\n",
       "      <td>M</td>\n",
       "      <td>2006-01-24</td>\n",
       "      <td>04078 Maximilian Brooks Suite 319</td>\n",
       "      <td>Montgomeryland</td>\n",
       "      <td>LA</td>\n",
       "      <td>63077</td>\n",
       "      <td>leeann.hermann@yahoo.com</td>\n",
       "      <td>Autem vero aliquid repellendus illo distinctio...</td>\n",
       "      <td>Tax inspector</td>\n",
       "      <td>12/31/1991</td>\n",
       "    </tr>\n",
       "    <tr>\n",
       "      <th>1</th>\n",
       "      <td>Mrs. Ottilie Grady</td>\n",
       "      <td>F</td>\n",
       "      <td>1972-03-01</td>\n",
       "      <td>6378 Gerhold Glens Suite 234</td>\n",
       "      <td>New Conortown</td>\n",
       "      <td>MA</td>\n",
       "      <td>19394</td>\n",
       "      <td>sunday99@schummgreenfelder.com</td>\n",
       "      <td>Culpa possimus laudantium earum ducimus dolori...</td>\n",
       "      <td>Merchandiser, retail</td>\n",
       "      <td>10/84</td>\n",
       "    </tr>\n",
       "  </tbody>\n",
       "</table>\n",
       "</div>"
      ],
      "text/plain": [
       "                 name gender   birthdate                            address  \\\n",
       "0  Nathalia Moore DDS      M  2006-01-24  04078 Maximilian Brooks Suite 319   \n",
       "1  Mrs. Ottilie Grady      F  1972-03-01       6378 Gerhold Glens Suite 234   \n",
       "\n",
       "             city state  zipcode                           email  \\\n",
       "0  Montgomeryland    LA    63077        leeann.hermann@yahoo.com   \n",
       "1   New Conortown    MA    19394  sunday99@schummgreenfelder.com   \n",
       "\n",
       "                                                 bio                   job  \\\n",
       "0  Autem vero aliquid repellendus illo distinctio...         Tax inspector   \n",
       "1  Culpa possimus laudantium earum ducimus dolori...  Merchandiser, retail   \n",
       "\n",
       "   start_date  \n",
       "0  12/31/1991  \n",
       "1       10/84  "
      ]
     },
     "execution_count": 2,
     "metadata": {},
     "output_type": "execute_result"
    }
   ],
   "source": [
    "df = pd.read_csv('https://s3.amazonaws.com/data-code-test/test.csv')\n",
    "df.head(2)"
   ]
  },
  {
   "cell_type": "code",
   "execution_count": 3,
   "metadata": {
    "collapsed": false
   },
   "outputs": [
    {
     "name": "stdout",
     "output_type": "stream",
     "text": [
      "The data frame is 500 rows and 11 columns.\n"
     ]
    }
   ],
   "source": [
    "print \"The data frame is\", df.shape[0], \"rows and\", df.shape[1], \"columns.\""
   ]
  },
  {
   "cell_type": "code",
   "execution_count": 4,
   "metadata": {
    "collapsed": false
   },
   "outputs": [],
   "source": [
    "bios = df['bio'].copy()"
   ]
  },
  {
   "cell_type": "markdown",
   "metadata": {},
   "source": [
    "This what the first and sixth bio looks like:"
   ]
  },
  {
   "cell_type": "code",
   "execution_count": 5,
   "metadata": {
    "collapsed": false
   },
   "outputs": [
    {
     "data": {
      "text/plain": [
       "'Autem vero aliquid repellendus illo distinctio. Reiciendis excepturi aut ducimus sint dignissimos et. Similique sunt et ullam sit.\\n\\t'"
      ]
     },
     "execution_count": 5,
     "metadata": {},
     "output_type": "execute_result"
    }
   ],
   "source": [
    "bios[0]"
   ]
  },
  {
   "cell_type": "code",
   "execution_count": 6,
   "metadata": {
    "collapsed": false
   },
   "outputs": [
    {
     "data": {
      "text/plain": [
       "'Dolorem suscipit voluptas consequatur autem.          Fugiat ut nostrum occaecati quia.\\n Quam sint ad tempora mollitia pariatur a.         '"
      ]
     },
     "execution_count": 6,
     "metadata": {},
     "output_type": "execute_result"
    }
   ],
   "source": [
    "bios[5]"
   ]
  },
  {
   "cell_type": "markdown",
   "metadata": {},
   "source": [
    "In order to clean up the bio's we need to:\n",
    "\n",
    "- Remove white spaces from front and back of each string\n",
    "\n",
    "- Remove characters such as: \\n, \\t, \\r\n",
    "\n",
    "- Remove extra big spaces such as 'laudantium      earum ducimus'"
   ]
  },
  {
   "cell_type": "code",
   "execution_count": 7,
   "metadata": {
    "collapsed": false
   },
   "outputs": [],
   "source": [
    "# Store clean bios in a list\n",
    "clean_bios = []\n",
    "\n",
    "# Clean each bio\n",
    "for bio in bios:\n",
    "    clean_bio = (re.sub(' +',' ',         # regex to remove consecutive white spaces of length > 1\n",
    "                    bio                   # select bio\n",
    "                    .strip()              # trim leading and trailing whitespace\n",
    "                    .replace(\"\\n\", \"\")    # remove \\n\n",
    "                    .replace(\"\\t\", \"\")    # remove \\t\n",
    "                    .replace(\"\\r\", \"\")))  # remove \\r\n",
    "\n",
    "    clean_bios.append(clean_bio)\n",
    "    \n",
    "# Replace bios column with clean bios\n",
    "df['bio'] = clean_bios"
   ]
  },
  {
   "cell_type": "code",
   "execution_count": 8,
   "metadata": {
    "collapsed": false
   },
   "outputs": [
    {
     "data": {
      "text/html": [
       "<div>\n",
       "<table border=\"1\" class=\"dataframe\">\n",
       "  <thead>\n",
       "    <tr style=\"text-align: right;\">\n",
       "      <th></th>\n",
       "      <th>name</th>\n",
       "      <th>gender</th>\n",
       "      <th>birthdate</th>\n",
       "      <th>address</th>\n",
       "      <th>city</th>\n",
       "      <th>state</th>\n",
       "      <th>zipcode</th>\n",
       "      <th>email</th>\n",
       "      <th>bio</th>\n",
       "      <th>job</th>\n",
       "      <th>start_date</th>\n",
       "    </tr>\n",
       "  </thead>\n",
       "  <tbody>\n",
       "    <tr>\n",
       "      <th>0</th>\n",
       "      <td>Nathalia Moore DDS</td>\n",
       "      <td>M</td>\n",
       "      <td>2006-01-24</td>\n",
       "      <td>04078 Maximilian Brooks Suite 319</td>\n",
       "      <td>Montgomeryland</td>\n",
       "      <td>LA</td>\n",
       "      <td>63077</td>\n",
       "      <td>leeann.hermann@yahoo.com</td>\n",
       "      <td>Autem vero aliquid repellendus illo distinctio...</td>\n",
       "      <td>Tax inspector</td>\n",
       "      <td>12/31/1991</td>\n",
       "    </tr>\n",
       "    <tr>\n",
       "      <th>1</th>\n",
       "      <td>Mrs. Ottilie Grady</td>\n",
       "      <td>F</td>\n",
       "      <td>1972-03-01</td>\n",
       "      <td>6378 Gerhold Glens Suite 234</td>\n",
       "      <td>New Conortown</td>\n",
       "      <td>MA</td>\n",
       "      <td>19394</td>\n",
       "      <td>sunday99@schummgreenfelder.com</td>\n",
       "      <td>Culpa possimus laudantium earum ducimus dolori...</td>\n",
       "      <td>Merchandiser, retail</td>\n",
       "      <td>10/84</td>\n",
       "    </tr>\n",
       "  </tbody>\n",
       "</table>\n",
       "</div>"
      ],
      "text/plain": [
       "                 name gender   birthdate                            address  \\\n",
       "0  Nathalia Moore DDS      M  2006-01-24  04078 Maximilian Brooks Suite 319   \n",
       "1  Mrs. Ottilie Grady      F  1972-03-01       6378 Gerhold Glens Suite 234   \n",
       "\n",
       "             city state  zipcode                           email  \\\n",
       "0  Montgomeryland    LA    63077        leeann.hermann@yahoo.com   \n",
       "1   New Conortown    MA    19394  sunday99@schummgreenfelder.com   \n",
       "\n",
       "                                                 bio                   job  \\\n",
       "0  Autem vero aliquid repellendus illo distinctio...         Tax inspector   \n",
       "1  Culpa possimus laudantium earum ducimus dolori...  Merchandiser, retail   \n",
       "\n",
       "   start_date  \n",
       "0  12/31/1991  \n",
       "1       10/84  "
      ]
     },
     "execution_count": 8,
     "metadata": {},
     "output_type": "execute_result"
    }
   ],
   "source": [
    "df.head(2)"
   ]
  },
  {
   "cell_type": "markdown",
   "metadata": {},
   "source": [
    "Here are what the first and sixth bio looks like post cleaning:"
   ]
  },
  {
   "cell_type": "code",
   "execution_count": 9,
   "metadata": {
    "collapsed": false
   },
   "outputs": [
    {
     "data": {
      "text/plain": [
       "'Autem vero aliquid repellendus illo distinctio. Reiciendis excepturi aut ducimus sint dignissimos et. Similique sunt et ullam sit.'"
      ]
     },
     "execution_count": 9,
     "metadata": {},
     "output_type": "execute_result"
    }
   ],
   "source": [
    "df.bio[0]"
   ]
  },
  {
   "cell_type": "code",
   "execution_count": 10,
   "metadata": {
    "collapsed": false
   },
   "outputs": [
    {
     "data": {
      "text/plain": [
       "'Dolorem suscipit voluptas consequatur autem. Fugiat ut nostrum occaecati quia. Quam sint ad tempora mollitia pariatur a.'"
      ]
     },
     "execution_count": 10,
     "metadata": {},
     "output_type": "execute_result"
    }
   ],
   "source": [
    "df.bio[5]"
   ]
  },
  {
   "cell_type": "markdown",
   "metadata": {},
   "source": [
    "### Code Swap\n",
    "\n",
    "*There is a supplementary CSV file for download here: [state_abbreviations.csv](https://s3.amazonaws.com/data-code-test/state_abbreviations.csv). This \"data dictionary\" contains state abbreviations alongside state names. For the state field of the input CSV, replace each state abbreviation with its associated state name from the data dictionary.*"
   ]
  },
  {
   "cell_type": "markdown",
   "metadata": {},
   "source": [
    "Read `state_abbreviations.csv` into a data frame:"
   ]
  },
  {
   "cell_type": "code",
   "execution_count": 11,
   "metadata": {
    "collapsed": false
   },
   "outputs": [
    {
     "data": {
      "text/html": [
       "<div>\n",
       "<table border=\"1\" class=\"dataframe\">\n",
       "  <thead>\n",
       "    <tr style=\"text-align: right;\">\n",
       "      <th></th>\n",
       "      <th>state_abbr</th>\n",
       "      <th>state_name</th>\n",
       "    </tr>\n",
       "  </thead>\n",
       "  <tbody>\n",
       "    <tr>\n",
       "      <th>0</th>\n",
       "      <td>AL</td>\n",
       "      <td>Alabama</td>\n",
       "    </tr>\n",
       "    <tr>\n",
       "      <th>1</th>\n",
       "      <td>AK</td>\n",
       "      <td>Alaska</td>\n",
       "    </tr>\n",
       "    <tr>\n",
       "      <th>2</th>\n",
       "      <td>AZ</td>\n",
       "      <td>Arizona</td>\n",
       "    </tr>\n",
       "    <tr>\n",
       "      <th>3</th>\n",
       "      <td>AR</td>\n",
       "      <td>Arkansas</td>\n",
       "    </tr>\n",
       "    <tr>\n",
       "      <th>4</th>\n",
       "      <td>CA</td>\n",
       "      <td>California</td>\n",
       "    </tr>\n",
       "  </tbody>\n",
       "</table>\n",
       "</div>"
      ],
      "text/plain": [
       "  state_abbr  state_name\n",
       "0         AL     Alabama\n",
       "1         AK      Alaska\n",
       "2         AZ     Arizona\n",
       "3         AR    Arkansas\n",
       "4         CA  California"
      ]
     },
     "execution_count": 11,
     "metadata": {},
     "output_type": "execute_result"
    }
   ],
   "source": [
    "states = pd.read_csv(\"https://s3.amazonaws.com/data-code-test/state_abbreviations.csv\")\n",
    "states.head()"
   ]
  },
  {
   "cell_type": "markdown",
   "metadata": {},
   "source": [
    "Convert dataframe into a dictionary, with keys = state_abbr and values = state_name"
   ]
  },
  {
   "cell_type": "code",
   "execution_count": 12,
   "metadata": {
    "collapsed": false
   },
   "outputs": [],
   "source": [
    "states = dict(zip(states.state_abbr.values, states.state_name.values))"
   ]
  },
  {
   "cell_type": "markdown",
   "metadata": {},
   "source": [
    "Create `state_name` column."
   ]
  },
  {
   "cell_type": "code",
   "execution_count": 13,
   "metadata": {
    "collapsed": false
   },
   "outputs": [],
   "source": [
    "# List of state abbreviations from the dataframe\n",
    "df_state_abbr = list(df['state'])\n",
    "\n",
    "# Store corresponding state names in a list\n",
    "df_state_name = []\n",
    "\n",
    "# Add corresponding state names to the list\n",
    "for abbr in df_state_abbr:\n",
    "    state_name = states[abbr]\n",
    "    df_state_name.append(state_name)\n",
    "    \n",
    "# Replace state abbrev with state name to dataframe\n",
    "df['state'] = df_state_name"
   ]
  },
  {
   "cell_type": "code",
   "execution_count": 14,
   "metadata": {
    "collapsed": false
   },
   "outputs": [
    {
     "data": {
      "text/html": [
       "<div>\n",
       "<table border=\"1\" class=\"dataframe\">\n",
       "  <thead>\n",
       "    <tr style=\"text-align: right;\">\n",
       "      <th></th>\n",
       "      <th>name</th>\n",
       "      <th>gender</th>\n",
       "      <th>birthdate</th>\n",
       "      <th>address</th>\n",
       "      <th>city</th>\n",
       "      <th>state</th>\n",
       "      <th>zipcode</th>\n",
       "      <th>email</th>\n",
       "      <th>bio</th>\n",
       "      <th>job</th>\n",
       "      <th>start_date</th>\n",
       "    </tr>\n",
       "  </thead>\n",
       "  <tbody>\n",
       "    <tr>\n",
       "      <th>0</th>\n",
       "      <td>Nathalia Moore DDS</td>\n",
       "      <td>M</td>\n",
       "      <td>2006-01-24</td>\n",
       "      <td>04078 Maximilian Brooks Suite 319</td>\n",
       "      <td>Montgomeryland</td>\n",
       "      <td>Louisiana</td>\n",
       "      <td>63077</td>\n",
       "      <td>leeann.hermann@yahoo.com</td>\n",
       "      <td>Autem vero aliquid repellendus illo distinctio...</td>\n",
       "      <td>Tax inspector</td>\n",
       "      <td>12/31/1991</td>\n",
       "    </tr>\n",
       "    <tr>\n",
       "      <th>1</th>\n",
       "      <td>Mrs. Ottilie Grady</td>\n",
       "      <td>F</td>\n",
       "      <td>1972-03-01</td>\n",
       "      <td>6378 Gerhold Glens Suite 234</td>\n",
       "      <td>New Conortown</td>\n",
       "      <td>Massachusetts</td>\n",
       "      <td>19394</td>\n",
       "      <td>sunday99@schummgreenfelder.com</td>\n",
       "      <td>Culpa possimus laudantium earum ducimus dolori...</td>\n",
       "      <td>Merchandiser, retail</td>\n",
       "      <td>10/84</td>\n",
       "    </tr>\n",
       "  </tbody>\n",
       "</table>\n",
       "</div>"
      ],
      "text/plain": [
       "                 name gender   birthdate                            address  \\\n",
       "0  Nathalia Moore DDS      M  2006-01-24  04078 Maximilian Brooks Suite 319   \n",
       "1  Mrs. Ottilie Grady      F  1972-03-01       6378 Gerhold Glens Suite 234   \n",
       "\n",
       "             city          state  zipcode                           email  \\\n",
       "0  Montgomeryland      Louisiana    63077        leeann.hermann@yahoo.com   \n",
       "1   New Conortown  Massachusetts    19394  sunday99@schummgreenfelder.com   \n",
       "\n",
       "                                                 bio                   job  \\\n",
       "0  Autem vero aliquid repellendus illo distinctio...         Tax inspector   \n",
       "1  Culpa possimus laudantium earum ducimus dolori...  Merchandiser, retail   \n",
       "\n",
       "   start_date  \n",
       "0  12/31/1991  \n",
       "1       10/84  "
      ]
     },
     "execution_count": 14,
     "metadata": {},
     "output_type": "execute_result"
    }
   ],
   "source": [
    "df.head(2)"
   ]
  },
  {
   "cell_type": "markdown",
   "metadata": {
    "collapsed": true
   },
   "source": [
    "### Date offset (bonus)\n",
    "\n",
    "*The start_date field contains data in a variety of formats. These may include e.g., \"June 23, 1912\" or \"5/11/1930\" (month, day, year). But not all values are valid dates. Invalid dates may include e.g., \"June 2018\", \"3/06\" (incomplete dates) or even arbitrary natural language. Add a start_date_description field adjacent to the start_date column to filter invalid date values into. Normalize all valid date values in start_date to ISO 8601 (i.e., YYYY-MM-DD).*"
   ]
  },
  {
   "cell_type": "markdown",
   "metadata": {},
   "source": [
    "I will use regular expressions to match three date formats that exist in the `start_date` field.\n",
    "\n",
    "The three date formats that we will look for are:\n",
    "\n",
    "- 12/31/1991\n",
    "- December 31, 1991\n",
    "- 1991-12-31"
   ]
  },
  {
   "cell_type": "markdown",
   "metadata": {},
   "source": [
    "Let's test the three regular expressions below to make sure they work:"
   ]
  },
  {
   "cell_type": "code",
   "execution_count": 15,
   "metadata": {
    "collapsed": false
   },
   "outputs": [
    {
     "name": "stdout",
     "output_type": "stream",
     "text": [
      "The date is 12/31/1991 --> 12/31/1991\n"
     ]
    }
   ],
   "source": [
    "# Regex to match dates in the format: 12/31/1991\n",
    "string = 'The date is 12/31/1991'\n",
    "regex1 = r'(\\d+/\\d+/\\d+)'\n",
    "match1=re.search(regex1, string)\n",
    "print string, \"-->\", match1.group(0)"
   ]
  },
  {
   "cell_type": "code",
   "execution_count": 16,
   "metadata": {
    "collapsed": false
   },
   "outputs": [
    {
     "name": "stdout",
     "output_type": "stream",
     "text": [
      "The date is December 31, 1991 --> December 31, 1991\n"
     ]
    }
   ],
   "source": [
    "# Regex to match dates in the format: December 3, 1991 or December 31, 1991\n",
    "string = 'The date is December 31, 1991'\n",
    "regex2 = r'\\b(?:Jan(?:uary)?|Feb(?:ruary)?|Mar(?:ch)?|Apr(?:il)?|May?|Jun(?:e)?|Jul(?:y)?|Aug(?:ust)?|Sep(?:tember)?|Oct(?:ober)?|Nov(?:ember)?|Dec(?:ember)?) ([0-9]?[0-9]?(\\.[0-9][0-9]?)?,) (?:19[0-9]\\d|2\\d{3})(?=\\D|$)'\n",
    "match2=re.search(regex2,string)\n",
    "print string, \"-->\", match2.group(0)"
   ]
  },
  {
   "cell_type": "code",
   "execution_count": 17,
   "metadata": {
    "collapsed": false
   },
   "outputs": [
    {
     "name": "stdout",
     "output_type": "stream",
     "text": [
      "The date is 1991-12-31 --> 1991-12-31\n"
     ]
    }
   ],
   "source": [
    "# Regex to match dates in the format: 1976-05-17\n",
    "string = 'The date is 1991-12-31'\n",
    "regex3 = r'(\\d+-\\d+-\\d+)'\n",
    "match3=re.search(regex3, string)\n",
    "print string, \"-->\", match3.group(0)"
   ]
  },
  {
   "cell_type": "markdown",
   "metadata": {},
   "source": [
    "Now, we will use the `dateutil` library to try parsing each date in the column, matching it against each of the three regex formats."
   ]
  },
  {
   "cell_type": "code",
   "execution_count": 18,
   "metadata": {
    "collapsed": true
   },
   "outputs": [],
   "source": [
    "from dateutil import parser"
   ]
  },
  {
   "cell_type": "code",
   "execution_count": 19,
   "metadata": {
    "collapsed": false
   },
   "outputs": [],
   "source": [
    "start_dates = list(df['start_date'])\n",
    "clean_start_dates = []\n",
    "\n",
    "for date in start_dates:\n",
    "    try_date_format_1 = re.search(regex1, date)\n",
    "    try_date_format_2 = re.search(regex2, date)\n",
    "    try_date_format_3 = re.search(regex3, date)\n",
    "    \n",
    "    if try_date_format_1 != None:\n",
    "        date = parser.parse(try_date_format_1.group(0))\n",
    "        clean_start_dates.append(date.strftime('%Y-%m-%d'))\n",
    "        \n",
    "    elif try_date_format_2 != None:\n",
    "        date = parser.parse(try_date_format_2.group(0))\n",
    "        clean_start_dates.append(date.strftime('%Y-%m-%d'))\n",
    "        \n",
    "    elif try_date_format_3 != None:\n",
    "        date = parser.parse(try_date_format_3.group(0))\n",
    "        clean_start_dates.append(date.strftime('%Y-%m-%d'))\n",
    "        \n",
    "    else:\n",
    "        clean_start_dates.append(None)"
   ]
  },
  {
   "cell_type": "code",
   "execution_count": 20,
   "metadata": {
    "collapsed": true
   },
   "outputs": [],
   "source": [
    "# shift old start_date column into start_date_description\n",
    "df['start_date_description'] = df['start_date'].copy()\n",
    "\n",
    "# insert clean start dates into start_date column\n",
    "df['start_date'] = clean_start_dates"
   ]
  },
  {
   "cell_type": "code",
   "execution_count": 21,
   "metadata": {
    "collapsed": false
   },
   "outputs": [
    {
     "data": {
      "text/html": [
       "<div>\n",
       "<table border=\"1\" class=\"dataframe\">\n",
       "  <thead>\n",
       "    <tr style=\"text-align: right;\">\n",
       "      <th></th>\n",
       "      <th>name</th>\n",
       "      <th>gender</th>\n",
       "      <th>birthdate</th>\n",
       "      <th>address</th>\n",
       "      <th>city</th>\n",
       "      <th>state</th>\n",
       "      <th>zipcode</th>\n",
       "      <th>email</th>\n",
       "      <th>bio</th>\n",
       "      <th>job</th>\n",
       "      <th>start_date</th>\n",
       "      <th>start_date_description</th>\n",
       "    </tr>\n",
       "  </thead>\n",
       "  <tbody>\n",
       "    <tr>\n",
       "      <th>0</th>\n",
       "      <td>Nathalia Moore DDS</td>\n",
       "      <td>M</td>\n",
       "      <td>2006-01-24</td>\n",
       "      <td>04078 Maximilian Brooks Suite 319</td>\n",
       "      <td>Montgomeryland</td>\n",
       "      <td>Louisiana</td>\n",
       "      <td>63077</td>\n",
       "      <td>leeann.hermann@yahoo.com</td>\n",
       "      <td>Autem vero aliquid repellendus illo distinctio...</td>\n",
       "      <td>Tax inspector</td>\n",
       "      <td>1991-12-31</td>\n",
       "      <td>12/31/1991</td>\n",
       "    </tr>\n",
       "    <tr>\n",
       "      <th>1</th>\n",
       "      <td>Mrs. Ottilie Grady</td>\n",
       "      <td>F</td>\n",
       "      <td>1972-03-01</td>\n",
       "      <td>6378 Gerhold Glens Suite 234</td>\n",
       "      <td>New Conortown</td>\n",
       "      <td>Massachusetts</td>\n",
       "      <td>19394</td>\n",
       "      <td>sunday99@schummgreenfelder.com</td>\n",
       "      <td>Culpa possimus laudantium earum ducimus dolori...</td>\n",
       "      <td>Merchandiser, retail</td>\n",
       "      <td>None</td>\n",
       "      <td>10/84</td>\n",
       "    </tr>\n",
       "  </tbody>\n",
       "</table>\n",
       "</div>"
      ],
      "text/plain": [
       "                 name gender   birthdate                            address  \\\n",
       "0  Nathalia Moore DDS      M  2006-01-24  04078 Maximilian Brooks Suite 319   \n",
       "1  Mrs. Ottilie Grady      F  1972-03-01       6378 Gerhold Glens Suite 234   \n",
       "\n",
       "             city          state  zipcode                           email  \\\n",
       "0  Montgomeryland      Louisiana    63077        leeann.hermann@yahoo.com   \n",
       "1   New Conortown  Massachusetts    19394  sunday99@schummgreenfelder.com   \n",
       "\n",
       "                                                 bio                   job  \\\n",
       "0  Autem vero aliquid repellendus illo distinctio...         Tax inspector   \n",
       "1  Culpa possimus laudantium earum ducimus dolori...  Merchandiser, retail   \n",
       "\n",
       "   start_date start_date_description  \n",
       "0  1991-12-31             12/31/1991  \n",
       "1        None                  10/84  "
      ]
     },
     "execution_count": 21,
     "metadata": {},
     "output_type": "execute_result"
    }
   ],
   "source": [
    "df.head(2)"
   ]
  },
  {
   "cell_type": "markdown",
   "metadata": {},
   "source": [
    "Save the resulting data frame to `solutions.csv`:"
   ]
  },
  {
   "cell_type": "code",
   "execution_count": 22,
   "metadata": {
    "collapsed": false
   },
   "outputs": [],
   "source": [
    "df.to_csv(\"solution.csv\")"
   ]
  },
  {
   "cell_type": "markdown",
   "metadata": {},
   "source": [
    "### Exploratory data visualizations"
   ]
  },
  {
   "cell_type": "code",
   "execution_count": 25,
   "metadata": {
    "collapsed": false
   },
   "outputs": [],
   "source": [
    "import matplotlib.pyplot as ply\n",
    "import seaborn as sns\n",
    "%matplotlib inline"
   ]
  },
  {
   "cell_type": "markdown",
   "metadata": {},
   "source": [
    "Here is a quick histogram counting the number of observations in the data set by state, factored by gender.\n",
    "\n",
    "The top chart (blue) shows the number of females by state. The bottom chart shows the number of males by state.\n",
    "\n",
    "For example, you can see that South Carolina has twice as many females than males in this dataset."
   ]
  },
  {
   "cell_type": "code",
   "execution_count": 27,
   "metadata": {
    "collapsed": false
   },
   "outputs": [
    {
     "data": {
      "image/png": "[encoded data removed]",
      "text/plain": [
       "<matplotlib.figure.Figure at 0x118096c90>"
      ]
     },
     "metadata": {},
     "output_type": "display_data"
    }
   ],
   "source": [
    "g = df.groupby(by=['state', 'gender']).count()[['name']].unstack(1)\n",
    "g.plot(kind='bar', subplots=True, legend=False, figsize=(14,6));"
   ]
  },
  {
   "cell_type": "markdown",
   "metadata": {},
   "source": [
    "Here is an interactive map showing the number of observations per state. We see that the top five most common states in the data set are Michigan, South Carolina, Louisiana, Nevada and Rhode Island."
   ]
  },
  {
   "cell_type": "code",
   "execution_count": 28,
   "metadata": {
    "collapsed": false
   },
   "outputs": [],
   "source": [
    "count_by_state = df.state.value_counts()\n",
    "count_by_state.to_csv(\"count_by_state.csv\")"
   ]
  },
  {
   "cell_type": "markdown",
   "metadata": {},
   "source": [
    "Create interactive web-map using [Carto](https://carto.com/)."
   ]
  },
  {
   "cell_type": "code",
   "execution_count": 30,
   "metadata": {
    "collapsed": false
   },
   "outputs": [
    {
     "data": {
      "text/html": [
       "<iframe src=https://willgeary.carto.com/builder/16922e92-2a15-11e7-9f14-0ecd1babdde5/embed width=100% height=800></iframe>"
      ],
      "text/plain": [
       "<IPython.core.display.HTML object>"
      ]
     },
     "execution_count": 30,
     "metadata": {},
     "output_type": "execute_result"
    }
   ],
   "source": [
    "import IPython\n",
    "url = \"https://willgeary.carto.com/builder/16922e92-2a15-11e7-9f14-0ecd1babdde5/embed\"\n",
    "iframe = '<iframe src=' + url + ' width=100% height=800></iframe>'\n",
    "IPython.display.HTML(iframe)"
   ]
  },
  {
   "cell_type": "markdown",
   "metadata": {},
   "source": [
    "# Part 2 - Web Scrape"
   ]
  },
  {
   "cell_type": "markdown",
   "metadata": {},
   "source": [
    "*To Do: Write a script to scrape a sample site and output its data in JSON.*\n",
    "\n",
    "*[edgar](http://data-interview.enigmalabs.org/companies/) is a company listings site containing ten pages of company links. Each link endpoint holds company-specific data such as name, description and address. The sole requirement of this part of the test is to produce JSON of all of the company listings data for the site.*\n",
    "\n",
    "*Please attach a \"solution.json\" file of the parsed company listings data along with your solution code in your reply!*"
   ]
  },
  {
   "cell_type": "code",
   "execution_count": 31,
   "metadata": {
    "collapsed": false
   },
   "outputs": [],
   "source": [
    "from BeautifulSoup import BeautifulSoup\n",
    "import json\n",
    "import urllib2\n",
    "import re\n",
    "import pandas as pd"
   ]
  },
  {
   "cell_type": "markdown",
   "metadata": {},
   "source": [
    "First, let's get a list of all the companies listed on the site."
   ]
  },
  {
   "cell_type": "code",
   "execution_count": 32,
   "metadata": {
    "collapsed": false
   },
   "outputs": [],
   "source": [
    "base = \"http://data-interview.enigmalabs.org/companies/\"\n",
    "page = \"?page={}\"\n",
    "\n",
    "# store companies in a list\n",
    "companies = []\n",
    "\n",
    "for page_number in range(1,11):\n",
    "    \n",
    "    # Construct url query\n",
    "    url_query = base + page.format(page_number)\n",
    "    \n",
    "    # Read url and scrape it with BeautifulSoup\n",
    "    url = urllib2.urlopen(url_query)\n",
    "    content = url.read()\n",
    "    soup = BeautifulSoup(content)\n",
    "\n",
    "    # find all elements starting with 'a' and id = some number \n",
    "    for item in soup.findAll('a', id=re.compile(r\"\\d+$\")):\n",
    "        href = item.get('href')\n",
    "        company = re.sub(\"/companies/\", \"\", href)\n",
    "        companies.append(company)"
   ]
  },
  {
   "cell_type": "code",
   "execution_count": 33,
   "metadata": {
    "collapsed": false
   },
   "outputs": [
    {
     "name": "stdout",
     "output_type": "stream",
     "text": [
      "100 companies have been scraped.\n"
     ]
    }
   ],
   "source": [
    "print len(companies), \"companies have been scraped.\""
   ]
  },
  {
   "cell_type": "markdown",
   "metadata": {},
   "source": [
    "Next, let's go to each company's individual profile to get the data."
   ]
  },
  {
   "cell_type": "code",
   "execution_count": 34,
   "metadata": {
    "collapsed": false
   },
   "outputs": [],
   "source": [
    "# store results as a list of dictionaries\n",
    "results = []\n",
    "\n",
    "# parse data for each company\n",
    "for company in companies:\n",
    "    \n",
    "    company_replace_spaces = re.sub(\" \", \"%20\", company)\n",
    "    company_url = base + company_replace_spaces\n",
    "    \n",
    "    url = urllib2.urlopen(company_url)\n",
    "    content = url.read()\n",
    "    soup = BeautifulSoup(content)\n",
    "    \n",
    "    company_name = str(soup.findAll('td', id='name')[0].contents[0])\n",
    "    street_address = str(soup.findAll('td', id='street_address')[0].contents[0])\n",
    "    street_address_2 = str(soup.findAll('td', id='street_address_2')[0].contents[0])\n",
    "    city = str(soup.findAll('td', id='city')[0].contents[0])\n",
    "    state = str(soup.findAll('td', id='state')[0].contents[0])\n",
    "    zipcode = str(soup.findAll('td', id='zipcode')[0].contents[0])\n",
    "    phone_number = str(soup.findAll('td', id='phone_number')[0].contents[0])\n",
    "    website = str(soup.findAll('td', id='website')[0].contents[0])\n",
    "    description = str(soup.findAll('td', id='description')[0].contents[0])\n",
    "    \n",
    "    result = {\n",
    "        'company_name': company_name,\n",
    "        'street_address': street_address,\n",
    "        'street_address_2': street_address_2,\n",
    "        'city': city,\n",
    "        'state': state,\n",
    "        'zipcode': zipcode,\n",
    "        'phone_number': phone_number,\n",
    "        'website': website,\n",
    "        'description': description\n",
    "    }\n",
    "    \n",
    "    results.append(result)"
   ]
  },
  {
   "cell_type": "markdown",
   "metadata": {},
   "source": [
    "Here is a preview of the dataframe of the results:"
   ]
  },
  {
   "cell_type": "code",
   "execution_count": 35,
   "metadata": {
    "collapsed": false
   },
   "outputs": [
    {
     "data": {
      "text/html": [
       "<div>\n",
       "<table border=\"1\" class=\"dataframe\">\n",
       "  <thead>\n",
       "    <tr style=\"text-align: right;\">\n",
       "      <th></th>\n",
       "      <th>city</th>\n",
       "      <th>company_name</th>\n",
       "      <th>description</th>\n",
       "      <th>phone_number</th>\n",
       "      <th>state</th>\n",
       "      <th>street_address</th>\n",
       "      <th>street_address_2</th>\n",
       "      <th>website</th>\n",
       "      <th>zipcode</th>\n",
       "    </tr>\n",
       "  </thead>\n",
       "  <tbody>\n",
       "    <tr>\n",
       "      <th>0</th>\n",
       "      <td>Aleasebury</td>\n",
       "      <td>Douglas, Walsh and Luettgen</td>\n",
       "      <td>harness scalable interfaces</td>\n",
       "      <td>006-152-4393</td>\n",
       "      <td>Mississippi</td>\n",
       "      <td>0630 Annalise Rue Apt. 686</td>\n",
       "      <td>Apt. 221</td>\n",
       "      <td>hettinger.com</td>\n",
       "      <td>39516</td>\n",
       "    </tr>\n",
       "    <tr>\n",
       "      <th>1</th>\n",
       "      <td>South Raetown</td>\n",
       "      <td>Stehr, Beahan and Spencer</td>\n",
       "      <td>leverage customized eyeballs</td>\n",
       "      <td>(959)326-7147x005</td>\n",
       "      <td>Georgia</td>\n",
       "      <td>604 Irine Via Apt. 032</td>\n",
       "      <td>Suite 096</td>\n",
       "      <td>shieldsledner.info</td>\n",
       "      <td>46391</td>\n",
       "    </tr>\n",
       "    <tr>\n",
       "      <th>2</th>\n",
       "      <td>Lake Garrison</td>\n",
       "      <td>Torphy-Larkin</td>\n",
       "      <td>incubate wireless bandwidth</td>\n",
       "      <td>418-431-6723x928</td>\n",
       "      <td>Texas</td>\n",
       "      <td>821 Weston Streets Suite 725</td>\n",
       "      <td>Suite 753</td>\n",
       "      <td>reynolds.org</td>\n",
       "      <td>70350</td>\n",
       "    </tr>\n",
       "    <tr>\n",
       "      <th>3</th>\n",
       "      <td>Port Lunaburgh</td>\n",
       "      <td>Ryan and Sons</td>\n",
       "      <td>facilitate intuitive bandwidth</td>\n",
       "      <td>193-181-8500</td>\n",
       "      <td>Connecticut</td>\n",
       "      <td>2489 Kuvalis Pine Suite 331</td>\n",
       "      <td>Apt. 624</td>\n",
       "      <td>skiles.net</td>\n",
       "      <td>71359</td>\n",
       "    </tr>\n",
       "    <tr>\n",
       "      <th>4</th>\n",
       "      <td>South Fayetteside</td>\n",
       "      <td>Kulas, White and Weimann</td>\n",
       "      <td>scale seamless e-business</td>\n",
       "      <td>(067)591-1928</td>\n",
       "      <td>Indiana</td>\n",
       "      <td>00827 Thiel Center</td>\n",
       "      <td>Apt. 298</td>\n",
       "      <td>haley.com</td>\n",
       "      <td>25740</td>\n",
       "    </tr>\n",
       "  </tbody>\n",
       "</table>\n",
       "</div>"
      ],
      "text/plain": [
       "                city                 company_name  \\\n",
       "0         Aleasebury  Douglas, Walsh and Luettgen   \n",
       "1      South Raetown    Stehr, Beahan and Spencer   \n",
       "2      Lake Garrison                Torphy-Larkin   \n",
       "3     Port Lunaburgh                Ryan and Sons   \n",
       "4  South Fayetteside     Kulas, White and Weimann   \n",
       "\n",
       "                      description       phone_number        state  \\\n",
       "0     harness scalable interfaces       006-152-4393  Mississippi   \n",
       "1    leverage customized eyeballs  (959)326-7147x005      Georgia   \n",
       "2     incubate wireless bandwidth   418-431-6723x928        Texas   \n",
       "3  facilitate intuitive bandwidth       193-181-8500  Connecticut   \n",
       "4       scale seamless e-business      (067)591-1928      Indiana   \n",
       "\n",
       "                 street_address street_address_2             website zipcode  \n",
       "0    0630 Annalise Rue Apt. 686         Apt. 221       hettinger.com   39516  \n",
       "1        604 Irine Via Apt. 032        Suite 096  shieldsledner.info   46391  \n",
       "2  821 Weston Streets Suite 725        Suite 753        reynolds.org   70350  \n",
       "3   2489 Kuvalis Pine Suite 331         Apt. 624          skiles.net   71359  \n",
       "4            00827 Thiel Center         Apt. 298           haley.com   25740  "
      ]
     },
     "execution_count": 35,
     "metadata": {},
     "output_type": "execute_result"
    }
   ],
   "source": [
    "pd.DataFrame(results).head()"
   ]
  },
  {
   "cell_type": "markdown",
   "metadata": {},
   "source": [
    "Save results to json:"
   ]
  },
  {
   "cell_type": "code",
   "execution_count": 36,
   "metadata": {
    "collapsed": false
   },
   "outputs": [],
   "source": [
    "with open(\"solution.json\", 'w') as f:\n",
    "    json.dump(results, f)"
   ]
  }
 ],
 "metadata": {
  "anaconda-cloud": {},
  "kernelspec": {
   "display_name": "Python [Root]",
   "language": "python",
   "name": "Python [Root]"
  },
  "language_info": {
   "codemirror_mode": {
    "name": "ipython",
    "version": 2
   },
   "file_extension": ".py",
   "mimetype": "text/x-python",
   "name": "python",
   "nbconvert_exporter": "python",
   "pygments_lexer": "ipython2",
   "version": "2.7.12"
  }
 },
 "nbformat": 4,
 "nbformat_minor": 0
}
